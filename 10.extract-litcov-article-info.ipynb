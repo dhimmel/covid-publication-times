{
 "cells": [
  {
   "cell_type": "markdown",
   "metadata": {
    "colab_type": "text",
    "id": "KoiuqPnaQL9Z"
   },
   "source": [
    "# COVID-19 Literature Publication Times extracted from PubMed"
   ]
  },
  {
   "cell_type": "code",
   "execution_count": 1,
   "metadata": {
    "colab": {},
    "colab_type": "code",
    "id": "W4-_oZ4KQpTr"
   },
   "outputs": [],
   "source": [
    "import pandas\n",
    "from pubmedpy.esummary import extract_articles_from_esummaries, articles_to_dataframe"
   ]
  },
  {
   "cell_type": "code",
   "execution_count": 2,
   "metadata": {
    "colab": {
     "base_uri": "https://localhost:8080/",
     "height": 204
    },
    "colab_type": "code",
    "id": "-BzMAdh8Pk_s",
    "outputId": "83145bbc-4a24-4bfe-acc9-7ea43016af21"
   },
   "outputs": [
    {
     "data": {
      "text/html": [
       "<div>\n",
       "<style scoped>\n",
       "    .dataframe tbody tr th:only-of-type {\n",
       "        vertical-align: middle;\n",
       "    }\n",
       "\n",
       "    .dataframe tbody tr th {\n",
       "        vertical-align: top;\n",
       "    }\n",
       "\n",
       "    .dataframe thead th {\n",
       "        text-align: right;\n",
       "    }\n",
       "</style>\n",
       "<table border=\"1\" class=\"dataframe\">\n",
       "  <thead>\n",
       "    <tr style=\"text-align: right;\">\n",
       "      <th></th>\n",
       "      <th>pmid</th>\n",
       "      <th>title</th>\n",
       "      <th>journal</th>\n",
       "    </tr>\n",
       "  </thead>\n",
       "  <tbody>\n",
       "    <tr>\n",
       "      <th>0</th>\n",
       "      <td>32450607</td>\n",
       "      <td>Gastrointestinal: Bowel ischemia in a suspecte...</td>\n",
       "      <td>J Gastroenterol Hepatol</td>\n",
       "    </tr>\n",
       "    <tr>\n",
       "      <th>1</th>\n",
       "      <td>32450565</td>\n",
       "      <td>Novel Coronavirus-Induced Right Ventricular Fa...</td>\n",
       "      <td>Cardiology</td>\n",
       "    </tr>\n",
       "  </tbody>\n",
       "</table>\n",
       "</div>"
      ],
      "text/plain": [
       "       pmid                                              title  \\\n",
       "0  32450607  Gastrointestinal: Bowel ischemia in a suspecte...   \n",
       "1  32450565  Novel Coronavirus-Induced Right Ventricular Fa...   \n",
       "\n",
       "                   journal  \n",
       "0  J Gastroenterol Hepatol  \n",
       "1               Cardiology  "
      ]
     },
     "execution_count": 2,
     "metadata": {},
     "output_type": "execute_result"
    }
   ],
   "source": [
    "litcovid_df = pandas.read_table(\"data/litcovid.tsv\", comment=\"#\")\n",
    "litcovid_df.head(2)"
   ]
  },
  {
   "cell_type": "code",
   "execution_count": 3,
   "metadata": {
    "colab": {
     "base_uri": "https://localhost:8080/",
     "height": 34
    },
    "colab_type": "code",
    "id": "ld1rcf9XQEFQ",
    "outputId": "800209fc-a8a5-4d19-8f8a-7e3ce283acd4"
   },
   "outputs": [
    {
     "name": "stdout",
     "output_type": "stream",
     "text": [
      "16,405 articles in litcovid.tsv\n"
     ]
    }
   ],
   "source": [
    "print(f'{len(litcovid_df):,} articles in litcovid.tsv')"
   ]
  },
  {
   "cell_type": "code",
   "execution_count": 4,
   "metadata": {
    "colab": {},
    "colab_type": "code",
    "id": "2kQ9lrGYa4Li"
   },
   "outputs": [],
   "source": [
    "path = \"data/litcovid-esummaries.xml.xz\""
   ]
  },
  {
   "cell_type": "code",
   "execution_count": 5,
   "metadata": {
    "colab": {
     "base_uri": "https://localhost:8080/",
     "height": 204
    },
    "colab_type": "code",
    "id": "KRHED_7DYPvC",
    "outputId": "1ec2194d-fdef-45d1-aa73-a48d349e6119",
    "scrolled": true
   },
   "outputs": [
    {
     "name": "stderr",
     "output_type": "stream",
     "text": [
      " 99%|█████████▉| 16314/16405 [00:08<00:00, 1997.71articles/s]\n"
     ]
    },
    {
     "data": {
      "text/plain": [
       "OrderedDict([('pubmed_id', 31943059),\n",
       "             ('journal_nlm_id', '9434456'),\n",
       "             ('journal', 'J Travel Med'),\n",
       "             ('title',\n",
       "              'Pneumonia of unknown aetiology in Wuhan, China: potential for international spread via commercial air travel.'),\n",
       "             ('doi', '10.1093/jtm/taaa008'),\n",
       "             ('publication_types', 'Journal Article'),\n",
       "             ('pub', datetime.date(2020, 3, 13)),\n",
       "             ('published', datetime.date(2020, 3, 13)),\n",
       "             ('accepted_0', datetime.date(2020, 1, 10)),\n",
       "             ('entrez_0', datetime.date(2020, 1, 17)),\n",
       "             ('medline_0', datetime.date(2020, 3, 21)),\n",
       "             ('pubmed_0', datetime.date(2020, 1, 17)),\n",
       "             ('received_0', datetime.date(2020, 1, 8)),\n",
       "             ('revised_0', datetime.date(2020, 1, 9))])"
      ]
     },
     "execution_count": 5,
     "metadata": {},
     "output_type": "execute_result"
    }
   ],
   "source": [
    "articles = extract_articles_from_esummaries(path, n_articles=len(litcovid_df))\n",
    "# show output of a single article\n",
    "articles[0]"
   ]
  },
  {
   "cell_type": "code",
   "execution_count": 6,
   "metadata": {
    "colab": {
     "base_uri": "https://localhost:8080/",
     "height": 111
    },
    "colab_type": "code",
    "id": "4dha73iMZ1U-",
    "outputId": "e92ae962-a551-4589-d8ab-e9bed626fe64"
   },
   "outputs": [
    {
     "data": {
      "text/html": [
       "<div>\n",
       "<style scoped>\n",
       "    .dataframe tbody tr th:only-of-type {\n",
       "        vertical-align: middle;\n",
       "    }\n",
       "\n",
       "    .dataframe tbody tr th {\n",
       "        vertical-align: top;\n",
       "    }\n",
       "\n",
       "    .dataframe thead th {\n",
       "        text-align: right;\n",
       "    }\n",
       "</style>\n",
       "<table border=\"1\" class=\"dataframe\">\n",
       "  <thead>\n",
       "    <tr style=\"text-align: right;\">\n",
       "      <th></th>\n",
       "      <th>pubmed_id</th>\n",
       "      <th>journal_nlm_id</th>\n",
       "      <th>journal</th>\n",
       "      <th>doi</th>\n",
       "      <th>epub</th>\n",
       "      <th>pub</th>\n",
       "      <th>publication_types</th>\n",
       "      <th>published</th>\n",
       "      <th>accepted_0</th>\n",
       "      <th>aheadofprint_0</th>\n",
       "      <th>entrez_0</th>\n",
       "      <th>medline_0</th>\n",
       "      <th>pmc-release_0</th>\n",
       "      <th>pubmed_0</th>\n",
       "      <th>received_0</th>\n",
       "      <th>retracted_0</th>\n",
       "      <th>revised_0</th>\n",
       "      <th>revised_1</th>\n",
       "      <th>version_0</th>\n",
       "      <th>title</th>\n",
       "    </tr>\n",
       "  </thead>\n",
       "  <tbody>\n",
       "    <tr>\n",
       "      <th>0</th>\n",
       "      <td>31943059</td>\n",
       "      <td>9434456</td>\n",
       "      <td>J Travel Med</td>\n",
       "      <td>10.1093/jtm/taaa008</td>\n",
       "      <td>NaN</td>\n",
       "      <td>2020-03-13</td>\n",
       "      <td>Journal Article</td>\n",
       "      <td>2020-03-13</td>\n",
       "      <td>2020-01-10</td>\n",
       "      <td>NaN</td>\n",
       "      <td>2020-01-17</td>\n",
       "      <td>2020-03-21</td>\n",
       "      <td>NaN</td>\n",
       "      <td>2020-01-17</td>\n",
       "      <td>2020-01-08</td>\n",
       "      <td>NaN</td>\n",
       "      <td>2020-01-09</td>\n",
       "      <td>NaN</td>\n",
       "      <td>NaN</td>\n",
       "      <td>Pneumonia of unknown aetiology in Wuhan, China...</td>\n",
       "    </tr>\n",
       "    <tr>\n",
       "      <th>1</th>\n",
       "      <td>31944312</td>\n",
       "      <td>7705876</td>\n",
       "      <td>J Med Virol</td>\n",
       "      <td>10.1002/jmv.25674</td>\n",
       "      <td>2020-02-04</td>\n",
       "      <td>NaN</td>\n",
       "      <td>Journal Article | Review</td>\n",
       "      <td>2020-02-04</td>\n",
       "      <td>2020-01-12</td>\n",
       "      <td>NaN</td>\n",
       "      <td>2020-01-17</td>\n",
       "      <td>2020-03-20</td>\n",
       "      <td>NaN</td>\n",
       "      <td>2020-01-17</td>\n",
       "      <td>2019-12-23</td>\n",
       "      <td>NaN</td>\n",
       "      <td>NaN</td>\n",
       "      <td>NaN</td>\n",
       "      <td>NaN</td>\n",
       "      <td>Recent advances in the detection of respirator...</td>\n",
       "    </tr>\n",
       "  </tbody>\n",
       "</table>\n",
       "</div>"
      ],
      "text/plain": [
       "   pubmed_id journal_nlm_id       journal                  doi        epub  \\\n",
       "0   31943059        9434456  J Travel Med  10.1093/jtm/taaa008         NaN   \n",
       "1   31944312        7705876   J Med Virol    10.1002/jmv.25674  2020-02-04   \n",
       "\n",
       "          pub         publication_types   published  accepted_0  \\\n",
       "0  2020-03-13           Journal Article  2020-03-13  2020-01-10   \n",
       "1         NaN  Journal Article | Review  2020-02-04  2020-01-12   \n",
       "\n",
       "  aheadofprint_0    entrez_0   medline_0 pmc-release_0    pubmed_0  \\\n",
       "0            NaN  2020-01-17  2020-03-21           NaN  2020-01-17   \n",
       "1            NaN  2020-01-17  2020-03-20           NaN  2020-01-17   \n",
       "\n",
       "   received_0 retracted_0   revised_0 revised_1 version_0  \\\n",
       "0  2020-01-08         NaN  2020-01-09       NaN       NaN   \n",
       "1  2019-12-23         NaN         NaN       NaN       NaN   \n",
       "\n",
       "                                               title  \n",
       "0  Pneumonia of unknown aetiology in Wuhan, China...  \n",
       "1  Recent advances in the detection of respirator...  "
      ]
     },
     "execution_count": 6,
     "metadata": {},
     "output_type": "execute_result"
    }
   ],
   "source": [
    "article_df = articles_to_dataframe(articles)\n",
    "article_df.head(2)"
   ]
  },
  {
   "cell_type": "code",
   "execution_count": 7,
   "metadata": {
    "colab": {},
    "colab_type": "code",
    "id": "AHUphobsagrM"
   },
   "outputs": [],
   "source": [
    "article_df.to_csv(\"data/litcovid-article-dates.tsv\", sep=\"\\t\", index=False)"
   ]
  }
 ],
 "metadata": {
  "colab": {
   "collapsed_sections": [],
   "name": "covid-publication-times.ipynb",
   "provenance": []
  },
  "kernelspec": {
   "display_name": "Python 3",
   "language": "python",
   "name": "python3"
  },
  "language_info": {
   "codemirror_mode": {
    "name": "ipython",
    "version": 3
   },
   "file_extension": ".py",
   "mimetype": "text/x-python",
   "name": "python",
   "nbconvert_exporter": "python",
   "pygments_lexer": "ipython3",
   "version": "3.8.2"
  },
  "widgets": {
   "application/vnd.jupyter.widget-state+json": {
    "22e49cf0280d40bb8a0061686cb7e107": {
     "model_module": "@jupyter-widgets/controls",
     "model_name": "HBoxModel",
     "state": {
      "_dom_classes": [],
      "_model_module": "@jupyter-widgets/controls",
      "_model_module_version": "1.5.0",
      "_model_name": "HBoxModel",
      "_view_count": null,
      "_view_module": "@jupyter-widgets/controls",
      "_view_module_version": "1.5.0",
      "_view_name": "HBoxView",
      "box_style": "",
      "children": [
       "IPY_MODEL_26dc39c2a5bb4a9b9fc4fbd39deb2dda",
       "IPY_MODEL_960e519c1af74b49b48979d8ffd22135"
      ],
      "layout": "IPY_MODEL_30ce2c66e12b4bfba400058e5ccb75b7"
     }
    },
    "2587e775e07f4829903d669be5998611": {
     "model_module": "@jupyter-widgets/base",
     "model_name": "LayoutModel",
     "state": {
      "_model_module": "@jupyter-widgets/base",
      "_model_module_version": "1.2.0",
      "_model_name": "LayoutModel",
      "_view_count": null,
      "_view_module": "@jupyter-widgets/base",
      "_view_module_version": "1.2.0",
      "_view_name": "LayoutView",
      "align_content": null,
      "align_items": null,
      "align_self": null,
      "border": null,
      "bottom": null,
      "display": null,
      "flex": null,
      "flex_flow": null,
      "grid_area": null,
      "grid_auto_columns": null,
      "grid_auto_flow": null,
      "grid_auto_rows": null,
      "grid_column": null,
      "grid_gap": null,
      "grid_row": null,
      "grid_template_areas": null,
      "grid_template_columns": null,
      "grid_template_rows": null,
      "height": null,
      "justify_content": null,
      "justify_items": null,
      "left": null,
      "margin": null,
      "max_height": null,
      "max_width": null,
      "min_height": null,
      "min_width": null,
      "object_fit": null,
      "object_position": null,
      "order": null,
      "overflow": null,
      "overflow_x": null,
      "overflow_y": null,
      "padding": null,
      "right": null,
      "top": null,
      "visibility": null,
      "width": null
     }
    },
    "26dc39c2a5bb4a9b9fc4fbd39deb2dda": {
     "model_module": "@jupyter-widgets/controls",
     "model_name": "FloatProgressModel",
     "state": {
      "_dom_classes": [],
      "_model_module": "@jupyter-widgets/controls",
      "_model_module_version": "1.5.0",
      "_model_name": "FloatProgressModel",
      "_view_count": null,
      "_view_module": "@jupyter-widgets/controls",
      "_view_module_version": "1.5.0",
      "_view_name": "ProgressView",
      "bar_style": "success",
      "description": "100%",
      "description_tooltip": null,
      "layout": "IPY_MODEL_3c2086081e9d49be81e2c0825440b87e",
      "max": 10,
      "min": 0,
      "orientation": "horizontal",
      "style": "IPY_MODEL_51ee38b2a1724256aa50a38b64497d51",
      "value": 10
     }
    },
    "30ce2c66e12b4bfba400058e5ccb75b7": {
     "model_module": "@jupyter-widgets/base",
     "model_name": "LayoutModel",
     "state": {
      "_model_module": "@jupyter-widgets/base",
      "_model_module_version": "1.2.0",
      "_model_name": "LayoutModel",
      "_view_count": null,
      "_view_module": "@jupyter-widgets/base",
      "_view_module_version": "1.2.0",
      "_view_name": "LayoutView",
      "align_content": null,
      "align_items": null,
      "align_self": null,
      "border": null,
      "bottom": null,
      "display": null,
      "flex": null,
      "flex_flow": null,
      "grid_area": null,
      "grid_auto_columns": null,
      "grid_auto_flow": null,
      "grid_auto_rows": null,
      "grid_column": null,
      "grid_gap": null,
      "grid_row": null,
      "grid_template_areas": null,
      "grid_template_columns": null,
      "grid_template_rows": null,
      "height": null,
      "justify_content": null,
      "justify_items": null,
      "left": null,
      "margin": null,
      "max_height": null,
      "max_width": null,
      "min_height": null,
      "min_width": null,
      "object_fit": null,
      "object_position": null,
      "order": null,
      "overflow": null,
      "overflow_x": null,
      "overflow_y": null,
      "padding": null,
      "right": null,
      "top": null,
      "visibility": null,
      "width": null
     }
    },
    "3c2086081e9d49be81e2c0825440b87e": {
     "model_module": "@jupyter-widgets/base",
     "model_name": "LayoutModel",
     "state": {
      "_model_module": "@jupyter-widgets/base",
      "_model_module_version": "1.2.0",
      "_model_name": "LayoutModel",
      "_view_count": null,
      "_view_module": "@jupyter-widgets/base",
      "_view_module_version": "1.2.0",
      "_view_name": "LayoutView",
      "align_content": null,
      "align_items": null,
      "align_self": null,
      "border": null,
      "bottom": null,
      "display": null,
      "flex": null,
      "flex_flow": null,
      "grid_area": null,
      "grid_auto_columns": null,
      "grid_auto_flow": null,
      "grid_auto_rows": null,
      "grid_column": null,
      "grid_gap": null,
      "grid_row": null,
      "grid_template_areas": null,
      "grid_template_columns": null,
      "grid_template_rows": null,
      "height": null,
      "justify_content": null,
      "justify_items": null,
      "left": null,
      "margin": null,
      "max_height": null,
      "max_width": null,
      "min_height": null,
      "min_width": null,
      "object_fit": null,
      "object_position": null,
      "order": null,
      "overflow": null,
      "overflow_x": null,
      "overflow_y": null,
      "padding": null,
      "right": null,
      "top": null,
      "visibility": null,
      "width": null
     }
    },
    "51ee38b2a1724256aa50a38b64497d51": {
     "model_module": "@jupyter-widgets/controls",
     "model_name": "ProgressStyleModel",
     "state": {
      "_model_module": "@jupyter-widgets/controls",
      "_model_module_version": "1.5.0",
      "_model_name": "ProgressStyleModel",
      "_view_count": null,
      "_view_module": "@jupyter-widgets/base",
      "_view_module_version": "1.2.0",
      "_view_name": "StyleView",
      "bar_color": null,
      "description_width": "initial"
     }
    },
    "960e519c1af74b49b48979d8ffd22135": {
     "model_module": "@jupyter-widgets/controls",
     "model_name": "HTMLModel",
     "state": {
      "_dom_classes": [],
      "_model_module": "@jupyter-widgets/controls",
      "_model_module_version": "1.5.0",
      "_model_name": "HTMLModel",
      "_view_count": null,
      "_view_module": "@jupyter-widgets/controls",
      "_view_module_version": "1.5.0",
      "_view_name": "HTMLView",
      "description": "",
      "description_tooltip": null,
      "layout": "IPY_MODEL_2587e775e07f4829903d669be5998611",
      "placeholder": "​",
      "style": "IPY_MODEL_cc361014924b4767bf8729b08ecfe2d8",
      "value": " 10/10 [03:24&lt;00:00, 20.48s/articles]"
     }
    },
    "cc361014924b4767bf8729b08ecfe2d8": {
     "model_module": "@jupyter-widgets/controls",
     "model_name": "DescriptionStyleModel",
     "state": {
      "_model_module": "@jupyter-widgets/controls",
      "_model_module_version": "1.5.0",
      "_model_name": "DescriptionStyleModel",
      "_view_count": null,
      "_view_module": "@jupyter-widgets/base",
      "_view_module_version": "1.2.0",
      "_view_name": "StyleView",
      "description_width": ""
     }
    }
   }
  }
 },
 "nbformat": 4,
 "nbformat_minor": 1
}
